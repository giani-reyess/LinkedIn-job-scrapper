{
 "cells": [
  {
   "cell_type": "code",
   "execution_count": 1,
   "id": "d138731d",
   "metadata": {
    "scrolled": true
   },
   "outputs": [],
   "source": [
    "from selenium import webdriver\n",
    "from selenium.webdriver.common.by import By\n",
    "from selenium.webdriver.chrome.service import Service\n",
    "from webdriver_manager.chrome import ChromeDriverManager"
   ]
  },
  {
   "cell_type": "code",
   "execution_count": 2,
   "id": "99a959d7",
   "metadata": {},
   "outputs": [],
   "source": [
    "driver = webdriver.Chrome(service=Service(ChromeDriverManager().install()))\n",
    "driver.get(\"https://www.linkedin.com/jobs/search/?currentJobId=3600156551&distance=25&geoId=100994331&keywords=data%20analyst\")"
   ]
  },
  {
   "cell_type": "code",
   "execution_count": 3,
   "id": "47cc3942",
   "metadata": {},
   "outputs": [],
   "source": [
    "# sing_in_button = driver.find_element_by_link_text(\"Sing in\")\n",
    "# sing_in_button.click()\n",
    "\n",
    "# # Write username\n",
    "# email_field = driver.find_element_by_id(\"username\")\n",
    "# email_field.send_keys(\"username\")\n",
    "\n",
    "# # Write password\n",
    "# password_field = driver.find_element_by_id(\"password\")\n",
    "# password_field.send_keys('password')\n",
    "\n",
    "# # Hit enter to login\n",
    "# password_field.send_keys(Keys.ENTER)"
   ]
  },
  {
   "cell_type": "code",
   "execution_count": 5,
   "id": "2a72ce5c",
   "metadata": {},
   "outputs": [
    {
     "name": "stdout",
     "output_type": "stream",
     "text": [
      "[]\n"
     ]
    }
   ],
   "source": [
    "XPATH_JOB_URL = '/html/body/div[1]/div/main/section[2]/ul//li/div//a' \n",
    "jobs_urls_list = driver.find_elements(By.XPATH, XPATH_JOB_URL)\n",
    "print(jobs_urls_list)\n",
    "\n",
    "# for job_url in jobs_urls_list:\n",
    "#     href = job_url.get_attribute('href')\n",
    "#     print(href)"
   ]
  }
 ],
 "metadata": {
  "kernelspec": {
   "display_name": "Python 3 (ipykernel)",
   "language": "python",
   "name": "python3"
  },
  "language_info": {
   "codemirror_mode": {
    "name": "ipython",
    "version": 3
   },
   "file_extension": ".py",
   "mimetype": "text/x-python",
   "name": "python",
   "nbconvert_exporter": "python",
   "pygments_lexer": "ipython3",
   "version": "3.9.16"
  }
 },
 "nbformat": 4,
 "nbformat_minor": 5
}
