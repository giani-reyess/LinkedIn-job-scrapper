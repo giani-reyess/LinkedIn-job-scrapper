{
 "cells": [
  {
   "cell_type": "code",
   "execution_count": 1,
   "id": "d138731d",
   "metadata": {
    "scrolled": true
   },
   "outputs": [],
   "source": [
    "from selenium import webdriver\n",
    "from selenium.webdriver.common.by import By\n",
    "from selenium.webdriver.chrome.service import Service\n",
    "from webdriver_manager.chrome import ChromeDriverManager\n",
    "import time"
   ]
  },
  {
   "cell_type": "code",
   "execution_count": 2,
   "id": "99a959d7",
   "metadata": {},
   "outputs": [],
   "source": [
    "# Set Chrome driver \n",
    "driver = webdriver.Chrome(service=Service(ChromeDriverManager().install()))\n",
    "\n",
    "# Go to LinkedIn Sing In page \n",
    "driver.get(\"https://www.linkedin.com/login?fromSignIn=true&trk=guest_homepage-basic_nav-header-signin\")"
   ]
  },
  {
   "cell_type": "code",
   "execution_count": 3,
   "id": "47cc3942",
   "metadata": {},
   "outputs": [],
   "source": [
    "# Write username\n",
    "email_field = driver.find_element(By.ID, \"username\")\n",
    "email_field.send_keys(\"gianinieto@gmail.com\")\n",
    "\n",
    "# Write password\n",
    "password_field = driver.find_element(By.ID, \"password\")\n",
    "password_field.send_keys('Mx$%zp7=58vV7>K')\n",
    "\n",
    "# Hit enter to login\n",
    "password_field.find_element(By.XPATH, '/html/body/div/main/div[3]/div[1]/form/div[3]/button').click()"
   ]
  },
  {
   "cell_type": "code",
   "execution_count": 4,
   "id": "a0347052",
   "metadata": {},
   "outputs": [],
   "source": [
    "# See results of job searchs for 'data analyst'\n",
    "driver.get(\"https://www.linkedin.com/jobs/search/?currentJobId=3600156551&distance=25&geoId=100994331&keywords=data%20analyst\")\n",
    "\n",
    "# Scroll all the way down to laod every job \n",
    "def scroll_down():\n",
    "    \"\"\"A method for scrolling the page.\"\"\"\n",
    "\n",
    "    # Get scroll height.\n",
    "    last_height = driver.execute_script(\"return document.body.scrollHeight\")\n",
    "\n",
    "    while True:\n",
    "\n",
    "        # Scroll down to the bottom.\n",
    "        driver.execute_script(\"window.scrollTo(0, document.body.scrollHeight);\")\n",
    "\n",
    "        # Wait to load the page.\n",
    "        time.sleep(2)\n",
    "\n",
    "        # Calculate new scroll height and compare with last scroll height.\n",
    "        new_height = driver.execute_script(\"return document.body.scrollHeight\")\n",
    "\n",
    "        if new_height == last_height:\n",
    "\n",
    "            break\n",
    "\n",
    "        last_height = new_height\n",
    "\n",
    "scroll_down()"
   ]
  },
  {
   "cell_type": "code",
   "execution_count": 5,
   "id": "2a72ce5c",
   "metadata": {},
   "outputs": [
    {
     "name": "stdout",
     "output_type": "stream",
     "text": [
      "<selenium.webdriver.remote.webelement.WebElement (session=\"911a16958cb89dcc40d17e41c9162221\", element=\"FC1DB32A27521EEA7ED2B9579FFD2FCF_element_136\")>\n",
      "https://www.linkedin.com/jobs/view/3535274047/?eBP=CwEAAAGIP0jijBneDFbIPqttXf68Z-6P7NsKtzb3IULWg-4KxArfLi0UoDzu2qHxLPaFzSX1YE0Qxyhw8S4M8nQE1UhYrGQP4C5bS0jySBTbjmyynAoeefe5y2EwfwlXDvSa0LtGYKHR6QSblJNcU8oBbwk4g2-87QIHF1JO7_sL_PVEfWFoUdkhWgxYX_2vH7mhdyoeUPJhHen04lQ3VauokP9P2zMaG65rlmwOsoUBTiZw-Pr3z4bx7RXiW0jAWyV-jSo96vRFAar_22e5guI9DdNwnqbnPBg4OztTMyrguQweVBRPTtE1zlc0Pr8f0Leu0rBeDuCSVa-Nnu9BSBmVysr0IpOrFsad0QkDgMS_y3fe0BomCmanfMjG_LDrJ0DMQOGAImSfeCj6RkpESyUCKCnyd2Kl&recommendedFlavor=JOB_SEEKER_QUALIFIED&refId=uq650wgzQg8QxosxDFcwEA%3D%3D&trackingId=WM%2BQCLKka3kgvfMP1iccRg%3D%3D&trk=flagship3_search_srp_jobs\n",
      "<selenium.webdriver.remote.webelement.WebElement (session=\"911a16958cb89dcc40d17e41c9162221\", element=\"FC1DB32A27521EEA7ED2B9579FFD2FCF_element_137\")>\n",
      "https://www.linkedin.com/jobs/view/3591534690/?eBP=CwEAAAGIP0jijItXhOJ1QLQv1uFvsgrjoSxPPaXfB7UoaJg8y834Ddvbx1eQrGCClnpKyvv789WFBphbT6yxfJOJhr6II1sO1wocx0NVzRD3wK13VYlaB3HSsHkPzGOFHc3jIyqdoMs024fLYLlY2ZAmthi2jMFy2fjR8NCsj9HunByHpPmPjH9N5BrGYyvX8u4yR-7HSi2GFgNJj3BRl5Jxk1n_uXzPsDbo6Cki6QAcdqJe-ttm7_owZn2oT6ru1z6IhKNkxTjM490K2fR2fMlzbKhIxMYCLex-WUymFe7dPZQiOTKpQ2_aB4yS7o5pA01c82byXF_B6kWNQN5Dlo3Irv555hiHa0Hfw7_ZKPqpAYcWlbgR_d6hm2VIGgYDb97X2AMlA76HwWpDmin3FJrBdFDm-zAKhlM&recommendedFlavor=COMPANY_RECRUIT&refId=uq650wgzQg8QxosxDFcwEA%3D%3D&trackingId=YdsbHxGA0ajGCrgFr%2BDX%2FA%3D%3D&trk=flagship3_search_srp_jobs\n",
      "<selenium.webdriver.remote.webelement.WebElement (session=\"911a16958cb89dcc40d17e41c9162221\", element=\"FC1DB32A27521EEA7ED2B9579FFD2FCF_element_138\")>\n",
      "https://www.linkedin.com/jobs/view/3610216017/?eBP=CwEAAAGIP0jijJ7JO26bJ_LT7x_S6Vlg-In_bh_yAFLKRaDMc0Pz97Cz3EkpjKXJrOwuVfaOZN1c5b2umXK5ph-viVz466Yj8l0iIv8WZMk6X1vRhoVTUJVXO76pjDOrTdHgsxMud3yS94z3fVEcSQ_5UGOUFVHavx4l6_cTkEQeYUP7qUQsTPGBcq6Z22sFx2WEWu-N7NrwTQbuOMI2iRI9jL8kH6cTDby_4pz3XUFb1Z6ATgdDyJqTXdwiNYAG9o19W-epElii5lm8GKWHKXy8YdzlHT9TyCmQkpr6PFsaXsi-Du1Rj2YlaPVcOUFBLg1pPOyvilIaBvqXXSCr7WhxuhNYTT6YERzvqQ&recommendedFlavor=ACTIVELY_HIRING_COMPANY&refId=uq650wgzQg8QxosxDFcwEA%3D%3D&trackingId=YqCBcJowTvTYmA9Salux%2Bw%3D%3D&trk=flagship3_search_srp_jobs\n",
      "<selenium.webdriver.remote.webelement.WebElement (session=\"911a16958cb89dcc40d17e41c9162221\", element=\"FC1DB32A27521EEA7ED2B9579FFD2FCF_element_139\")>\n",
      "https://www.linkedin.com/jobs/view/3608813589/?eBP=CwEAAAGIP0jijGF495qnYrT7zQ4j36RA0HtvxFRx_dXnqpIKSvFKbeXX9ASr8OFwhJ0G0zKZWalW-1nyrlheFdDrQZyUK0fDUojidf7FK01Ir9rI3OyQ9UIrSCNiZ9yFSRigfPxfvJ5SeVCku73aUfzwsm3zPCFk92zoaJyM1vpPuagPTq8a3L7ZzSSsjucuby9ddFsvU9lM9cEMo1vmCNrofCij-GuI_LqoMVm8NOrjuq1CaVK5RyR_BU28SinKwinnlaUBXRT2hBEIEWVfwmHdLwu7FQBvyIMSr3X_xpImuFAWzZyLbqSVH5F_An5yRGnL6kiJXfZotbe-HohoxVbCslMmzo5ZcpIlVQ&refId=uq650wgzQg8QxosxDFcwEA%3D%3D&trackingId=M%2FV3gVOylk8zGb5bWuZPyQ%3D%3D&trk=flagship3_search_srp_jobs\n",
      "<selenium.webdriver.remote.webelement.WebElement (session=\"911a16958cb89dcc40d17e41c9162221\", element=\"FC1DB32A27521EEA7ED2B9579FFD2FCF_element_140\")>\n",
      "https://www.linkedin.com/jobs/view/3585999180/?eBP=JOB_SEARCH_ORGANIC&recommendedFlavor=COMPANY_RECRUIT&refId=uq650wgzQg8QxosxDFcwEA%3D%3D&trackingId=sU%2B9%2FuygUPtdt6HIvrvsEA%3D%3D&trk=flagship3_search_srp_jobs\n",
      "<selenium.webdriver.remote.webelement.WebElement (session=\"911a16958cb89dcc40d17e41c9162221\", element=\"FC1DB32A27521EEA7ED2B9579FFD2FCF_element_141\")>\n",
      "https://www.linkedin.com/jobs/view/3518208047/?eBP=CwEAAAGIP0jijKOOTNzaGY0sGMB4MFaTJnsWM4sT_F6xf6x9w5yqHWgQZRGkUSVSkzWsVdBueqD1Or-ahzK1GiVPLCU3xMsl7myKsRYnsOcp9F0wgKYrMCdYFaV_LJksLJoMjCe447AMELIv8eBdrvt60usTpclPvC3CvyaiwE8JNYAQWQQp1OalPvZw303tCyqNY5kWa5_NAOvdAmc08GtuUiDFXEZnzEybUWinZEIk3uPtXM0MR4KvrFKqyMPxaq6iNjfTIVX4Svsr43rq5oyqs6vVx0bjVuGfxaKmLqPCIXgzZQT0n02IL1RHGNRg0_VkycQNdLhadms0hAykVcbTl0oTgmtA1fVlsBoYQr3F3oQoxwW5BE_IJITcGC7faM6yjsCceSAQGiA89wggtTmMSCOoWMPvaiU&recommendedFlavor=JOB_SEEKER_QUALIFIED&refId=uq650wgzQg8QxosxDFcwEA%3D%3D&trackingId=R30Dfux%2FExEkKzO1nPufvQ%3D%3D&trk=flagship3_search_srp_jobs\n",
      "<selenium.webdriver.remote.webelement.WebElement (session=\"911a16958cb89dcc40d17e41c9162221\", element=\"FC1DB32A27521EEA7ED2B9579FFD2FCF_element_142\")>\n",
      "https://www.linkedin.com/jobs/view/3355947463/?eBP=CwEAAAGIP0jijCmfMxxgSqocjgto9GDVuNjp-8mqxkMTS-NTT3Sp38N39q4s5fLlQU-w4WsvARSuJPMFtryHDXsd0ndFoK5rku_zLANfO5y0mRmMe1HKmnt8pFaahe6j6Qly0SaSs-_EoReSlt1yM2IxAa3pvIGLhYCSjo1UPmUA31FhyPxJ12_BgMMSJ9TY4tHBL5gH_dDYjaSVScYDbygj-KcSVyoIwfKaVDfeBumC6yJOwJ17nSi0u23A0mOOuOBcxd1IDmBoArbCPnK_SLh4cjimN_DjN9pB7YqqMuE_hcFyy1_a1AHSQvFGFK-LO8tiZBoHSU2z6CoDR2bf_WeNUlbtDkBfAqY&recommendedFlavor=ACTIVELY_HIRING_COMPANY&refId=uq650wgzQg8QxosxDFcwEA%3D%3D&trackingId=8tiLRWc0aWIZYAMJ002%2BLw%3D%3D&trk=flagship3_search_srp_jobs\n",
      "<selenium.webdriver.remote.webelement.WebElement (session=\"911a16958cb89dcc40d17e41c9162221\", element=\"FC1DB32A27521EEA7ED2B9579FFD2FCF_element_143\")>\n",
      "https://www.linkedin.com/jobs/view/3610348990/?eBP=CwEAAAGIP0jijOj-psiqhBxdw4dKhC0Po471CC1L6sVhcDA23k9PZA3qdm_GWnqW2USqJMwZHPwncBzXRbTKRj9DRNMaN7B3Xc6YmDtWjbPw4dtC2d57wVUlmEpkx2yHeKeJH_93YmOosub2tG75tGrj70YekSKI_ZGDu7ETrHaLl3gyqvlfwP8C0KlbNu-oyKiSdamkRG9v_9Bx2p0ee1NeeSwCSDTMhpJG1qb8G5Dc5u87Chyx4jIk_ejSiCJFsAxXZD_Js_xXldSbJots45Ix9z4iDY5MDyLPO5jjmxbdfeTLDO3873EZ7uywBA3veQbdTkuj-IfJ1rgGhCN3RDQXUMhC91jvRRjPva5K9DxWwVsleQWkuUy_L_npq1XXSCGS1LkRFug&recommendedFlavor=COMPANY_RECRUIT&refId=uq650wgzQg8QxosxDFcwEA%3D%3D&trackingId=gIieMmctoFGiFM43XKqyWw%3D%3D&trk=flagship3_search_srp_jobs\n",
      "<selenium.webdriver.remote.webelement.WebElement (session=\"911a16958cb89dcc40d17e41c9162221\", element=\"FC1DB32A27521EEA7ED2B9579FFD2FCF_element_144\")>\n",
      "https://www.linkedin.com/jobs/view/3600789847/?eBP=CwEAAAGIP0jijLp8GblowsvtWhT2ccLmSWasHT0PpbEESDjLDMNJjjFcOKY8mvOZyAhhvByzv2kQZlA3rzENYqzvL-ue0agoPIvaf01WpNFbQqGD2VAI-7MRRHC9JO6w8nyTdD4Tki8mn6MCw801OOt-f-l03QAH4noaZebAPNpyx8DqCi2_UG89OVEgA21KjNxyMYb58qLK5Bp8yYX0lILq120T1k-5uaQKRcATK6yNduZ4lIxMHMJRPwUWE_CD3Xjk2UHXqkgEVuoHkP1AyWytvPmqUC7Wv1FOt5VV_7HYXxS7h2cdkGv31-PYoKrmxOnj2H-6ZMKi1qwcd_c5t22G4KmXc9DTNyWP8yMfkC0o1C-eQM5oyqiLE1XYDqc_6CNK8L9LyxQ&recommendedFlavor=JOB_SEEKER_QUALIFIED&refId=uq650wgzQg8QxosxDFcwEA%3D%3D&trackingId=0hDbe0XBGS50nOpagTS6Tw%3D%3D&trk=flagship3_search_srp_jobs\n",
      "<selenium.webdriver.remote.webelement.WebElement (session=\"911a16958cb89dcc40d17e41c9162221\", element=\"FC1DB32A27521EEA7ED2B9579FFD2FCF_element_145\")>\n",
      "https://www.linkedin.com/jobs/view/3563857171/?eBP=JOB_SEARCH_ORGANIC&recommendedFlavor=SCHOOL_RECRUIT&refId=uq650wgzQg8QxosxDFcwEA%3D%3D&trackingId=3tGIpQ5pJdA5pDQQKDlOTw%3D%3D&trk=flagship3_search_srp_jobs\n",
      "<selenium.webdriver.remote.webelement.WebElement (session=\"911a16958cb89dcc40d17e41c9162221\", element=\"FC1DB32A27521EEA7ED2B9579FFD2FCF_element_130\")>\n",
      "https://www.linkedin.com/jobs/view/3600156551/?eBP=CwEAAAGIP0jijMQ7XqT9vOPMP1YpWZD213JkwciC6JHhX_4yyLOisaK-zVeh1H8CGYnSHV39w2iW7afqsf4_U6DpuSfBl4KZIl08qFp7GX4HuYBXC02icag5CLjeYGaUrePDdYHwVlEr8MMBIfRwbCQZJiEz0W6UcYLHJOlzP4SbguRgm0ShoCnWDGK0RTRP38qPAf2uwwl4Ep9-25jDE-3Nly6VK6ttJL6vFBwX-QJl_gOXg1XYWUBBHlUHJQORzT37DNa1OLxa7ZY5uC1pbn6lMc-yWvXYGUZFD6ZLmYjovdSYa3Bx3Rsu5vfXbggELn4MmgroRDzb--mfnB7bTKdr9IjPHXyRcpSpfQaVSjei16mLTjrPDKtbkwuSBJ-n34QymePpTug&recommendedFlavor=ACTIVELY_HIRING_COMPANY&refId=uq650wgzQg8QxosxDFcwEA%3D%3D&trackingId=BYFqsyQkms2MLxcgf4Padg%3D%3D&trk=flagship3_search_srp_jobs\n",
      "<selenium.webdriver.remote.webelement.WebElement (session=\"911a16958cb89dcc40d17e41c9162221\", element=\"FC1DB32A27521EEA7ED2B9579FFD2FCF_element_146\")>\n",
      "https://www.linkedin.com/jobs/view/3582108691/?eBP=CwEAAAGIP0jijFO-Zf-Tt0sQ_8jv8EKI8ytkfczzWFMsi2FkcWHakpi0wd0q_ZJfcSIrTJfYFcxPJsc8pg7jOP1uPJusLhUMxyJHjXr3a5FhhAY0TKYO9piadKkKlS1SAO2cpSUm_hZaF-ST86D-jqFFNpIPjJMicN0jpgf4ktBPwer4He_sG90UBhHPvwcJ_u8iaxUtBMk83kv0R6C-IrIoNfFw9jJN-sPnw1L_qPE22NzYHzvD7O1u9r3Bqkb6HIGX3Cr-4xznNmZS5Nqh1l4Ipv5FH6GGurHIDZQr6w8XUc23mL24RVskRNvWwiem5f-dMQT4hx7PmZqYstjnbVHOdRQSoWwwpasBMfUP19upGfPqu1rxQrTtvwOLQg-tZNrZBQ&recommendedFlavor=ACTIVELY_HIRING_COMPANY&refId=uq650wgzQg8QxosxDFcwEA%3D%3D&trackingId=ZkDDuShmmDupXHQ2LPi6lA%3D%3D&trk=flagship3_search_srp_jobs\n",
      "<selenium.webdriver.remote.webelement.WebElement (session=\"911a16958cb89dcc40d17e41c9162221\", element=\"FC1DB32A27521EEA7ED2B9579FFD2FCF_element_147\")>\n",
      "https://www.linkedin.com/jobs/view/3591279958/?eBP=CwEAAAGIP0jijC9rZDfLBBAO6GXvjUBolTDkSEltLesmVYcJNqWk-K0ddyP-Etk6LvfbAtcZ0wagpCdrIFYHjavgVQthQ2XF3MeQJN3HR4aBj09kIBOk2axjRdZEtOHZYq36uDLE-rOIPPLZNia2ld1yQV5M-dluMFDKEkUd6DQSG6U0ou-2qtwnwgthpzDsEAGgPxEOfWYhD6E9TgwiGJ5AIppVNegbt_ka3Oj9YQZuF1aCdCTQ8GrXM7rBVdw-vJsJhCfVRMVzu8lYI6911Ja4w7YR5dfDGZUpll8Ozl1eaNjuHyb7QqRbkZuZjG_zMA47MPGfBbgV_pDuvVMRFeLk-uxJ74jRShWYU9CZ7tyMBJAC17gP8Z5gS8a7KDrzOf77hQln&recommendedFlavor=JOB_SEEKER_QUALIFIED&refId=uq650wgzQg8QxosxDFcwEA%3D%3D&trackingId=LRByYNMR4DBmy6dNBCSbGA%3D%3D&trk=flagship3_search_srp_jobs\n",
      "<selenium.webdriver.remote.webelement.WebElement (session=\"911a16958cb89dcc40d17e41c9162221\", element=\"FC1DB32A27521EEA7ED2B9579FFD2FCF_element_148\")>\n",
      "https://www.linkedin.com/jobs/view/3583994353/?eBP=CwEAAAGIP0jijBN97NUeaFTkClad9OvO8XQ3Bn23w1WovPJT3Og9wyYcAMLoTK28jkGi5LZXhxwBQqkjBTqmg5de1FbSi984WVN7iA7mV-ad_POSi8JSmzs5H4LFLm4bSDiSRg0KE4P_rglm1dKztEcSf-17fV06MFQYtZiJDGGOMVOPABn2II51amFyyiPsNEB6QBOEYEcRPQJCJ7VSSDVq1X430gSiIpv_hGt5OCRysGT-zw1JrYbEFqROmhnIXNN838W4ivmaArLkibvKpNNJoiI1SAKVQPjD4AXMUoyQ7n4e-UafCSliq-i23ACTBDN7Ch6vit_WW0bZBH853bGqkITdnCBcFWsoS3N5UElst2jaDjyl6KcuyweTnu3aNgRNynPtcWA&recommendedFlavor=COMPANY_RECRUIT&refId=uq650wgzQg8QxosxDFcwEA%3D%3D&trackingId=yxhPr2DuVNs98WzJgc8VYA%3D%3D&trk=flagship3_search_srp_jobs\n"
     ]
    }
   ],
   "source": [
    "# XPATH to get job URLs\n",
    "XPATH_JOB_URL = '/html/body/div[6]/div[3]/div[4]/div/div/main/div/div[1]/div/ul//li/div/div[1]/div[1]/div[2]/div[1]//a' \n",
    "\n",
    "# Get list of job URLs\n",
    "jobs_urls_list = driver.find_elements(By.XPATH , XPATH_JOB_URL)\n",
    "\n",
    "# Print each URL\n",
    "for job_url in jobs_urls_list:\n",
    "    print(job_url)\n",
    "    href = job_url.get_attribute('href')\n",
    "    print(href)"
   ]
  }
 ],
 "metadata": {
  "kernelspec": {
   "display_name": "Python 3 (ipykernel)",
   "language": "python",
   "name": "python3"
  },
  "language_info": {
   "codemirror_mode": {
    "name": "ipython",
    "version": 3
   },
   "file_extension": ".py",
   "mimetype": "text/x-python",
   "name": "python",
   "nbconvert_exporter": "python",
   "pygments_lexer": "ipython3",
   "version": "3.9.16"
  }
 },
 "nbformat": 4,
 "nbformat_minor": 5
}
