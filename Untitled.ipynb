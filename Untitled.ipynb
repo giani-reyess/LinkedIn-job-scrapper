{
 "cells": [
  {
   "cell_type": "code",
   "execution_count": 1,
   "id": "5809d05e",
   "metadata": {},
   "outputs": [],
   "source": [
    "from selenium import webdriver\n",
    "from selenium.webdriver.chrome.service import Service\n",
    "from webdriver_manager.chrome import ChromeDriverManager\n",
    "from selenium.webdriver.support.wait import WebDriverWait\n",
    "from selenium.webdriver.support import expected_conditions as EC\n",
    "from selenium.webdriver.common.keys import Keys\n",
    "from selenium.webdriver.common.by import By\n",
    "import time"
   ]
  },
  {
   "cell_type": "code",
   "execution_count": 2,
   "id": "b97282e0",
   "metadata": {},
   "outputs": [],
   "source": [
    "# Set Chrome driver \n",
    "driver = webdriver.Chrome(service=Service(ChromeDriverManager().install()))\n",
    "\n",
    "# Go to LinkedIn Sing In page \n",
    "driver.get(\"https://www.linkedin.com/login?fromSignIn=true&trk=guest_homepage-basic_nav-header-signin\")"
   ]
  },
  {
   "cell_type": "code",
   "execution_count": 3,
   "id": "2632b92a",
   "metadata": {},
   "outputs": [],
   "source": [
    "# Write username\n",
    "email_field = driver.find_element(By.ID, \"username\")\n",
    "email_field.send_keys(\"gianinieto@gmail.com\")\n",
    "\n",
    "# Write password\n",
    "password_field = driver.find_element(By.ID, \"password\")\n",
    "password_field.send_keys('Mx$%zp7=58vV7>K')\n",
    "\n",
    "# Hit enter to login\n",
    "password_field.find_element(By.XPATH, '/html/body/div/main/div[3]/div[1]/form/div[3]/button').click()"
   ]
  },
  {
   "cell_type": "code",
   "execution_count": 4,
   "id": "e6f0721a",
   "metadata": {},
   "outputs": [],
   "source": [
    "# See results of job searchs for 'data analyst'\n",
    "driver.get(\"https://www.linkedin.com/jobs/search/?currentJobId=3600156551&distance=25&geoId=100994331&keywords=data%20analyst\")"
   ]
  },
  {
   "cell_type": "code",
   "execution_count": 5,
   "id": "e0bde592",
   "metadata": {},
   "outputs": [
    {
     "ename": "JavascriptException",
     "evalue": "Message: javascript error: arguments[0].scrollIntoView is not a function\n  (Session info: chrome=113.0.5672.126)\nStacktrace:\n#0 0x55ac1439a133 <unknown>\n#1 0x55ac140ce966 <unknown>\n#2 0x55ac140d3126 <unknown>\n#3 0x55ac140d5070 <unknown>\n#4 0x55ac14143e02 <unknown>\n#5 0x55ac1412abd2 <unknown>\n#6 0x55ac141431c7 <unknown>\n#7 0x55ac1412a9a3 <unknown>\n#8 0x55ac140ff46a <unknown>\n#9 0x55ac1410055e <unknown>\n#10 0x55ac14359cae <unknown>\n#11 0x55ac1435d8fe <unknown>\n#12 0x55ac14366f20 <unknown>\n#13 0x55ac1435e923 <unknown>\n#14 0x55ac14331c0e <unknown>\n#15 0x55ac14381b08 <unknown>\n#16 0x55ac14381c97 <unknown>\n#17 0x55ac14392113 <unknown>\n#18 0x7f100e2d0b43 <unknown>\n",
     "output_type": "error",
     "traceback": [
      "\u001b[0;31m---------------------------------------------------------------------------\u001b[0m",
      "\u001b[0;31mJavascriptException\u001b[0m                       Traceback (most recent call last)",
      "Cell \u001b[0;32mIn[5], line 13\u001b[0m\n\u001b[1;32m     11\u001b[0m \u001b[38;5;28;01mwhile\u001b[39;00m \u001b[38;5;28;01mTrue\u001b[39;00m:\n\u001b[1;32m     12\u001b[0m     class_name \u001b[38;5;241m=\u001b[39m \u001b[38;5;124m\"\u001b[39m\u001b[38;5;124mjobs-search-results-list\u001b[39m\u001b[38;5;124m\"\u001b[39m\n\u001b[0;32m---> 13\u001b[0m     \u001b[43mdriver\u001b[49m\u001b[38;5;241;43m.\u001b[39;49m\u001b[43mexecute_script\u001b[49m\u001b[43m(\u001b[49m\u001b[38;5;124;43m\"\u001b[39;49m\u001b[38;5;124;43marguments[0].scrollIntoView(true);\u001b[39;49m\u001b[38;5;124;43m\"\u001b[39;49m\u001b[43m,\u001b[49m\u001b[43m \u001b[49m\u001b[43mclass_name\u001b[49m\u001b[43m)\u001b[49m\n\u001b[1;32m     15\u001b[0m     \u001b[38;5;66;03m# Wait to load page\u001b[39;00m\n\u001b[1;32m     16\u001b[0m     time\u001b[38;5;241m.\u001b[39msleep(SCROLL_PAUSE_TIME)\n",
      "File \u001b[0;32m~/anaconda3/envs/env/lib/python3.9/site-packages/selenium/webdriver/remote/webdriver.py:500\u001b[0m, in \u001b[0;36mWebDriver.execute_script\u001b[0;34m(self, script, *args)\u001b[0m\n\u001b[1;32m    497\u001b[0m converted_args \u001b[38;5;241m=\u001b[39m \u001b[38;5;28mlist\u001b[39m(args)\n\u001b[1;32m    498\u001b[0m command \u001b[38;5;241m=\u001b[39m Command\u001b[38;5;241m.\u001b[39mW3C_EXECUTE_SCRIPT\n\u001b[0;32m--> 500\u001b[0m \u001b[38;5;28;01mreturn\u001b[39;00m \u001b[38;5;28;43mself\u001b[39;49m\u001b[38;5;241;43m.\u001b[39;49m\u001b[43mexecute\u001b[49m\u001b[43m(\u001b[49m\u001b[43mcommand\u001b[49m\u001b[43m,\u001b[49m\u001b[43m \u001b[49m\u001b[43m{\u001b[49m\u001b[38;5;124;43m\"\u001b[39;49m\u001b[38;5;124;43mscript\u001b[39;49m\u001b[38;5;124;43m\"\u001b[39;49m\u001b[43m:\u001b[49m\u001b[43m \u001b[49m\u001b[43mscript\u001b[49m\u001b[43m,\u001b[49m\u001b[43m \u001b[49m\u001b[38;5;124;43m\"\u001b[39;49m\u001b[38;5;124;43margs\u001b[39;49m\u001b[38;5;124;43m\"\u001b[39;49m\u001b[43m:\u001b[49m\u001b[43m \u001b[49m\u001b[43mconverted_args\u001b[49m\u001b[43m}\u001b[49m\u001b[43m)\u001b[49m[\u001b[38;5;124m\"\u001b[39m\u001b[38;5;124mvalue\u001b[39m\u001b[38;5;124m\"\u001b[39m]\n",
      "File \u001b[0;32m~/anaconda3/envs/env/lib/python3.9/site-packages/selenium/webdriver/remote/webdriver.py:440\u001b[0m, in \u001b[0;36mWebDriver.execute\u001b[0;34m(self, driver_command, params)\u001b[0m\n\u001b[1;32m    438\u001b[0m response \u001b[38;5;241m=\u001b[39m \u001b[38;5;28mself\u001b[39m\u001b[38;5;241m.\u001b[39mcommand_executor\u001b[38;5;241m.\u001b[39mexecute(driver_command, params)\n\u001b[1;32m    439\u001b[0m \u001b[38;5;28;01mif\u001b[39;00m response:\n\u001b[0;32m--> 440\u001b[0m     \u001b[38;5;28;43mself\u001b[39;49m\u001b[38;5;241;43m.\u001b[39;49m\u001b[43merror_handler\u001b[49m\u001b[38;5;241;43m.\u001b[39;49m\u001b[43mcheck_response\u001b[49m\u001b[43m(\u001b[49m\u001b[43mresponse\u001b[49m\u001b[43m)\u001b[49m\n\u001b[1;32m    441\u001b[0m     response[\u001b[38;5;124m\"\u001b[39m\u001b[38;5;124mvalue\u001b[39m\u001b[38;5;124m\"\u001b[39m] \u001b[38;5;241m=\u001b[39m \u001b[38;5;28mself\u001b[39m\u001b[38;5;241m.\u001b[39m_unwrap_value(response\u001b[38;5;241m.\u001b[39mget(\u001b[38;5;124m\"\u001b[39m\u001b[38;5;124mvalue\u001b[39m\u001b[38;5;124m\"\u001b[39m, \u001b[38;5;28;01mNone\u001b[39;00m))\n\u001b[1;32m    442\u001b[0m     \u001b[38;5;28;01mreturn\u001b[39;00m response\n",
      "File \u001b[0;32m~/anaconda3/envs/env/lib/python3.9/site-packages/selenium/webdriver/remote/errorhandler.py:245\u001b[0m, in \u001b[0;36mErrorHandler.check_response\u001b[0;34m(self, response)\u001b[0m\n\u001b[1;32m    243\u001b[0m         alert_text \u001b[38;5;241m=\u001b[39m value[\u001b[38;5;124m\"\u001b[39m\u001b[38;5;124malert\u001b[39m\u001b[38;5;124m\"\u001b[39m]\u001b[38;5;241m.\u001b[39mget(\u001b[38;5;124m\"\u001b[39m\u001b[38;5;124mtext\u001b[39m\u001b[38;5;124m\"\u001b[39m)\n\u001b[1;32m    244\u001b[0m     \u001b[38;5;28;01mraise\u001b[39;00m exception_class(message, screen, stacktrace, alert_text)  \u001b[38;5;66;03m# type: ignore[call-arg]  # mypy is not smart enough here\u001b[39;00m\n\u001b[0;32m--> 245\u001b[0m \u001b[38;5;28;01mraise\u001b[39;00m exception_class(message, screen, stacktrace)\n",
      "\u001b[0;31mJavascriptException\u001b[0m: Message: javascript error: arguments[0].scrollIntoView is not a function\n  (Session info: chrome=113.0.5672.126)\nStacktrace:\n#0 0x55ac1439a133 <unknown>\n#1 0x55ac140ce966 <unknown>\n#2 0x55ac140d3126 <unknown>\n#3 0x55ac140d5070 <unknown>\n#4 0x55ac14143e02 <unknown>\n#5 0x55ac1412abd2 <unknown>\n#6 0x55ac141431c7 <unknown>\n#7 0x55ac1412a9a3 <unknown>\n#8 0x55ac140ff46a <unknown>\n#9 0x55ac1410055e <unknown>\n#10 0x55ac14359cae <unknown>\n#11 0x55ac1435d8fe <unknown>\n#12 0x55ac14366f20 <unknown>\n#13 0x55ac1435e923 <unknown>\n#14 0x55ac14331c0e <unknown>\n#15 0x55ac14381b08 <unknown>\n#16 0x55ac14381c97 <unknown>\n#17 0x55ac14392113 <unknown>\n#18 0x7f100e2d0b43 <unknown>\n"
     ]
    }
   ],
   "source": [
    "# # See results of job searchs for 'data analyst'\n",
    "# driver.get(\"https://www.linkedin.com/jobs/search/?currentJobId=3600156551&distance=25&geoId=100994331&keywords=data%20analyst\")\n",
    "\n",
    "# CLASS_NAME = \"artdeco-pagination__indicator artdeco-pagination__indicator--number active selected ember-view\"\n",
    "\n",
    "# WebDriverWait(driver, 10).until(EC.frame_to_be_available_and_switch_to_it((By.CLASS_NAME, CLASS_NAME)))\n",
    "\n",
    "# driver.execute_script(\"window.scrollTo(0,document.body.scrollHeight)\")\n",
    "# time.sleep(3)\n",
    "\n",
    "while True:\n",
    "    class_name = \"jobs-search-results-list\"\n",
    "    driver.execute_script(\"arguments[0].scrollIntoView(true);\", class_name)\n",
    "    \n",
    "    # Wait to load page\n",
    "    time.sleep(SCROLL_PAUSE_TIME)\n",
    "\n",
    "    # Calculate new scroll height and compare with last scroll height\n",
    "    new_height = driver.execute_script(\"return document.body.scrollHeight\")\n",
    "    \n",
    "    if new_height == last_height:\n",
    "        break\n",
    "    last_height = new_height"
   ]
  },
  {
   "cell_type": "code",
   "execution_count": 6,
   "id": "885d609e",
   "metadata": {},
   "outputs": [],
   "source": [
    "# XPATH to get job URLs\n",
    "XPATH_JOB_URL = '/html/body/div[6]/div[3]/div[4]/div/div/main/div/div[1]/div/ul//li/div/div[1]/div[1]/div[2]/div[1]//a' \n",
    "\n",
    "# Get list of job URLs\n",
    "jobs_urls_list = driver.find_elements(By.XPATH , XPATH_JOB_URL)\n",
    "\n",
    "# Print each URL\n",
    "url_list = [job_url.get_attribute('href') for job_url in jobs_urls_list]"
   ]
  },
  {
   "cell_type": "code",
   "execution_count": 7,
   "id": "a56676b1",
   "metadata": {},
   "outputs": [
    {
     "name": "stdout",
     "output_type": "stream",
     "text": [
      "13\n"
     ]
    }
   ],
   "source": [
    "print(len(url_list))"
   ]
  }
 ],
 "metadata": {
  "kernelspec": {
   "display_name": "Python 3 (ipykernel)",
   "language": "python",
   "name": "python3"
  },
  "language_info": {
   "codemirror_mode": {
    "name": "ipython",
    "version": 3
   },
   "file_extension": ".py",
   "mimetype": "text/x-python",
   "name": "python",
   "nbconvert_exporter": "python",
   "pygments_lexer": "ipython3",
   "version": "3.9.16"
  }
 },
 "nbformat": 4,
 "nbformat_minor": 5
}
