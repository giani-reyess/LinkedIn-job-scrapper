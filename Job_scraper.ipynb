{
 "cells": [
  {
   "cell_type": "code",
   "execution_count": 1,
   "id": "5809d05e",
   "metadata": {},
   "outputs": [],
   "source": [
    "from selenium import webdriver\n",
    "from selenium.webdriver.chrome.service import Service\n",
    "from webdriver_manager.chrome import ChromeDriverManager\n",
    "from selenium.webdriver.support.wait import WebDriverWait\n",
    "from selenium.webdriver.support import expected_conditions as EC\n",
    "from selenium.webdriver.common.action_chains import ActionChains\n",
    "from selenium.webdriver.common.keys import Keys\n",
    "from selenium.webdriver.common.by import By\n",
    "import time"
   ]
  },
  {
   "cell_type": "code",
   "execution_count": 2,
   "id": "b97282e0",
   "metadata": {},
   "outputs": [],
   "source": [
    "# Set Chrome driver \n",
    "driver = webdriver.Chrome(service=Service(ChromeDriverManager().install()))\n",
    "\n",
    "# Go to LinkedIn Sing In page \n",
    "driver.get(\"https://www.linkedin.com/login?fromSignIn=true&trk=guest_homepage-basic_nav-header-signin\")"
   ]
  },
  {
   "cell_type": "code",
   "execution_count": 3,
   "id": "2632b92a",
   "metadata": {},
   "outputs": [],
   "source": [
    "# WebDriverWait(driver, timeout=5)\n",
    "    \n",
    "try:\n",
    "    # Write username\n",
    "    email_field = driver.find_element(By.NAME, \"session_key\")\n",
    "    email_field.send_keys(\"gianinieto@gmail.com\")\n",
    "\n",
    "    # Write password\n",
    "    password_field = driver.find_element(By.NAME, \"session_password\")\n",
    "    password_field.send_keys('Mx$%zp7=58vV7>K')\n",
    "\n",
    "    # Hit enter to login\n",
    "    password_field.find_element(By.XPATH, '/html/body/div/main/div[3]/div[1]/form/div[3]/button').click()\n",
    "\n",
    "except TimeoutException:\n",
    "        print('TimeoutException')"
   ]
  },
  {
   "cell_type": "code",
   "execution_count": 4,
   "id": "e6f0721a",
   "metadata": {},
   "outputs": [],
   "source": [
    "# See results of job searchs for 'data analyst'\n",
    "driver.get(\"https://www.linkedin.com/jobs/search?keywords=Data%20Analyst&location=Madrid%2C%20Community%20of%20Madrid%2C%20Spain&locationId=&geoId=100994331&f_TPR=r86400&f_PP=103374081&f_E=1%2C2&position=1&pageNum=0\")"
   ]
  },
  {
   "cell_type": "code",
   "execution_count": 5,
   "id": "e0bde592",
   "metadata": {},
   "outputs": [],
   "source": [
    "time.sleep(2)\n",
    "xpath_reject_cookies = '/html/body/div[1]/div/section/div/div[2]/button[2]'\n",
    "driver.find_element(By.XPATH, xpath_reject_cookies).click()\n",
    "\n",
    "driver.execute_script(\"window.scrollTo(0,document.body.scrollHeight)\")\n",
    "# time.sleep(3)\n",
    "\n",
    "last_height = driver.execute_script(\"return document.body.scrollHeight\")\n",
    "\n",
    "while True:\n",
    "# Scroll down to bottom\n",
    "    driver.execute_script(\"window.scrollTo(0, document.body.scrollHeight);\")\n",
    "    \n",
    "    # Wait to load page\n",
    "    time.sleep(3)\n",
    "\n",
    "    # Calculate new scroll height and compare with last scroll height\n",
    "    new_height = driver.execute_script(\"return document.body.scrollHeight\")\n",
    "    \n",
    "    if new_height == last_height:\n",
    "        break\n",
    "    last_height = new_height"
   ]
  },
  {
   "cell_type": "code",
   "execution_count": 6,
   "id": "885d609e",
   "metadata": {},
   "outputs": [
    {
     "name": "stdout",
     "output_type": "stream",
     "text": [
      "[None, None, None, None, None, None, None]\n"
     ]
    }
   ],
   "source": [
    "# XPATH to get job URLs\n",
    "XPATH_JOB_URL = '/html/body/div[1]/div/main/section[2]/ul//li/div/a'\n",
    "\n",
    "# XPATH to get only the urls of data-related jobs\n",
    "XPATH_H3_DATA_ANALYSIS_JOBS = '/html/body/div[1]/div/main/section[2]/ul//li/div/div[2]/h3[contains(text(),\"Data\")]'\n",
    "\n",
    "# Get list of job URLs\n",
    "jobs_urls_list = driver.find_elements(By.XPATH , XPATH_JOB_URL)\n",
    "\n",
    "# Print each URL\n",
    "url_list = [job_url.get_attribute('href') for job_url in jobs_urls_list]\n",
    "print(url_list)"
   ]
  },
  {
   "cell_type": "code",
   "execution_count": null,
   "id": "c502aa1f",
   "metadata": {},
   "outputs": [],
   "source": [
    "\"\"\"\n",
    "Extarct only the data-related jobs,\n",
    "\"\"\""
   ]
  }
 ],
 "metadata": {
  "kernelspec": {
   "display_name": "Python 3 (ipykernel)",
   "language": "python",
   "name": "python3"
  },
  "language_info": {
   "codemirror_mode": {
    "name": "ipython",
    "version": 3
   },
   "file_extension": ".py",
   "mimetype": "text/x-python",
   "name": "python",
   "nbconvert_exporter": "python",
   "pygments_lexer": "ipython3",
   "version": "3.9.16"
  }
 },
 "nbformat": 4,
 "nbformat_minor": 5
}
